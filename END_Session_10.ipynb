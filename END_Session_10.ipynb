{
  "nbformat": 4,
  "nbformat_minor": 0,
  "metadata": {
    "accelerator": "GPU",
    "colab": {
      "name": "END Session 10.ipynb",
      "provenance": [],
      "collapsed_sections": [],
      "authorship_tag": "ABX9TyNHoJAQRrW/hsleaRq7VJQO",
      "include_colab_link": true
    },
    "kernelspec": {
      "display_name": "Python 3",
      "name": "python3"
    }
  },
  "cells": [
    {
      "cell_type": "markdown",
      "metadata": {
        "id": "view-in-github",
        "colab_type": "text"
      },
      "source": [
        "<a href=\"https://colab.research.google.com/github/sagar9926/END_Session10/blob/main/END_Session_10.ipynb\" target=\"_parent\"><img src=\"https://colab.research.google.com/assets/colab-badge.svg\" alt=\"Open In Colab\"/></a>"
      ]
    },
    {
      "cell_type": "code",
      "metadata": {
        "colab": {
          "base_uri": "https://localhost:8080/"
        },
        "id": "yDoYcR_-r4fe",
        "outputId": "2b8e571b-def1-4243-a119-93915003e70d"
      },
      "source": [
        "%%bash\r\n",
        "python -m spacy download en\r\n",
        "python -m spacy download de"
      ],
      "execution_count": 27,
      "outputs": [
        {
          "output_type": "stream",
          "text": [
            "Requirement already satisfied: en_core_web_sm==2.2.5 from https://github.com/explosion/spacy-models/releases/download/en_core_web_sm-2.2.5/en_core_web_sm-2.2.5.tar.gz#egg=en_core_web_sm==2.2.5 in /usr/local/lib/python3.6/dist-packages (2.2.5)\n",
            "Requirement already satisfied: spacy>=2.2.2 in /usr/local/lib/python3.6/dist-packages (from en_core_web_sm==2.2.5) (2.2.4)\n",
            "Requirement already satisfied: plac<1.2.0,>=0.9.6 in /usr/local/lib/python3.6/dist-packages (from spacy>=2.2.2->en_core_web_sm==2.2.5) (1.1.3)\n",
            "Requirement already satisfied: numpy>=1.15.0 in /usr/local/lib/python3.6/dist-packages (from spacy>=2.2.2->en_core_web_sm==2.2.5) (1.19.5)\n",
            "Requirement already satisfied: wasabi<1.1.0,>=0.4.0 in /usr/local/lib/python3.6/dist-packages (from spacy>=2.2.2->en_core_web_sm==2.2.5) (0.8.0)\n",
            "Requirement already satisfied: setuptools in /usr/local/lib/python3.6/dist-packages (from spacy>=2.2.2->en_core_web_sm==2.2.5) (51.1.1)\n",
            "Requirement already satisfied: srsly<1.1.0,>=1.0.2 in /usr/local/lib/python3.6/dist-packages (from spacy>=2.2.2->en_core_web_sm==2.2.5) (1.0.5)\n",
            "Requirement already satisfied: requests<3.0.0,>=2.13.0 in /usr/local/lib/python3.6/dist-packages (from spacy>=2.2.2->en_core_web_sm==2.2.5) (2.23.0)\n",
            "Requirement already satisfied: preshed<3.1.0,>=3.0.2 in /usr/local/lib/python3.6/dist-packages (from spacy>=2.2.2->en_core_web_sm==2.2.5) (3.0.5)\n",
            "Requirement already satisfied: blis<0.5.0,>=0.4.0 in /usr/local/lib/python3.6/dist-packages (from spacy>=2.2.2->en_core_web_sm==2.2.5) (0.4.1)\n",
            "Requirement already satisfied: murmurhash<1.1.0,>=0.28.0 in /usr/local/lib/python3.6/dist-packages (from spacy>=2.2.2->en_core_web_sm==2.2.5) (1.0.5)\n",
            "Requirement already satisfied: thinc==7.4.0 in /usr/local/lib/python3.6/dist-packages (from spacy>=2.2.2->en_core_web_sm==2.2.5) (7.4.0)\n",
            "Requirement already satisfied: tqdm<5.0.0,>=4.38.0 in /usr/local/lib/python3.6/dist-packages (from spacy>=2.2.2->en_core_web_sm==2.2.5) (4.41.1)\n",
            "Requirement already satisfied: cymem<2.1.0,>=2.0.2 in /usr/local/lib/python3.6/dist-packages (from spacy>=2.2.2->en_core_web_sm==2.2.5) (2.0.5)\n",
            "Requirement already satisfied: catalogue<1.1.0,>=0.0.7 in /usr/local/lib/python3.6/dist-packages (from spacy>=2.2.2->en_core_web_sm==2.2.5) (1.0.0)\n",
            "Requirement already satisfied: chardet<4,>=3.0.2 in /usr/local/lib/python3.6/dist-packages (from requests<3.0.0,>=2.13.0->spacy>=2.2.2->en_core_web_sm==2.2.5) (3.0.4)\n",
            "Requirement already satisfied: urllib3!=1.25.0,!=1.25.1,<1.26,>=1.21.1 in /usr/local/lib/python3.6/dist-packages (from requests<3.0.0,>=2.13.0->spacy>=2.2.2->en_core_web_sm==2.2.5) (1.24.3)\n",
            "Requirement already satisfied: certifi>=2017.4.17 in /usr/local/lib/python3.6/dist-packages (from requests<3.0.0,>=2.13.0->spacy>=2.2.2->en_core_web_sm==2.2.5) (2020.12.5)\n",
            "Requirement already satisfied: idna<3,>=2.5 in /usr/local/lib/python3.6/dist-packages (from requests<3.0.0,>=2.13.0->spacy>=2.2.2->en_core_web_sm==2.2.5) (2.10)\n",
            "Requirement already satisfied: importlib-metadata>=0.20; python_version < \"3.8\" in /usr/local/lib/python3.6/dist-packages (from catalogue<1.1.0,>=0.0.7->spacy>=2.2.2->en_core_web_sm==2.2.5) (3.3.0)\n",
            "Requirement already satisfied: typing-extensions>=3.6.4; python_version < \"3.8\" in /usr/local/lib/python3.6/dist-packages (from importlib-metadata>=0.20; python_version < \"3.8\"->catalogue<1.1.0,>=0.0.7->spacy>=2.2.2->en_core_web_sm==2.2.5) (3.7.4.3)\n",
            "Requirement already satisfied: zipp>=0.5 in /usr/local/lib/python3.6/dist-packages (from importlib-metadata>=0.20; python_version < \"3.8\"->catalogue<1.1.0,>=0.0.7->spacy>=2.2.2->en_core_web_sm==2.2.5) (3.4.0)\n",
            "\u001b[38;5;2m✔ Download and installation successful\u001b[0m\n",
            "You can now load the model via spacy.load('en_core_web_sm')\n",
            "\u001b[38;5;2m✔ Linking successful\u001b[0m\n",
            "/usr/local/lib/python3.6/dist-packages/en_core_web_sm -->\n",
            "/usr/local/lib/python3.6/dist-packages/spacy/data/en\n",
            "You can now load the model via spacy.load('en')\n",
            "Requirement already satisfied: de_core_news_sm==2.2.5 from https://github.com/explosion/spacy-models/releases/download/de_core_news_sm-2.2.5/de_core_news_sm-2.2.5.tar.gz#egg=de_core_news_sm==2.2.5 in /usr/local/lib/python3.6/dist-packages (2.2.5)\n",
            "Requirement already satisfied: spacy>=2.2.2 in /usr/local/lib/python3.6/dist-packages (from de_core_news_sm==2.2.5) (2.2.4)\n",
            "Requirement already satisfied: srsly<1.1.0,>=1.0.2 in /usr/local/lib/python3.6/dist-packages (from spacy>=2.2.2->de_core_news_sm==2.2.5) (1.0.5)\n",
            "Requirement already satisfied: plac<1.2.0,>=0.9.6 in /usr/local/lib/python3.6/dist-packages (from spacy>=2.2.2->de_core_news_sm==2.2.5) (1.1.3)\n",
            "Requirement already satisfied: thinc==7.4.0 in /usr/local/lib/python3.6/dist-packages (from spacy>=2.2.2->de_core_news_sm==2.2.5) (7.4.0)\n",
            "Requirement already satisfied: cymem<2.1.0,>=2.0.2 in /usr/local/lib/python3.6/dist-packages (from spacy>=2.2.2->de_core_news_sm==2.2.5) (2.0.5)\n",
            "Requirement already satisfied: requests<3.0.0,>=2.13.0 in /usr/local/lib/python3.6/dist-packages (from spacy>=2.2.2->de_core_news_sm==2.2.5) (2.23.0)\n",
            "Requirement already satisfied: catalogue<1.1.0,>=0.0.7 in /usr/local/lib/python3.6/dist-packages (from spacy>=2.2.2->de_core_news_sm==2.2.5) (1.0.0)\n",
            "Requirement already satisfied: numpy>=1.15.0 in /usr/local/lib/python3.6/dist-packages (from spacy>=2.2.2->de_core_news_sm==2.2.5) (1.19.5)\n",
            "Requirement already satisfied: setuptools in /usr/local/lib/python3.6/dist-packages (from spacy>=2.2.2->de_core_news_sm==2.2.5) (51.1.1)\n",
            "Requirement already satisfied: tqdm<5.0.0,>=4.38.0 in /usr/local/lib/python3.6/dist-packages (from spacy>=2.2.2->de_core_news_sm==2.2.5) (4.41.1)\n",
            "Requirement already satisfied: murmurhash<1.1.0,>=0.28.0 in /usr/local/lib/python3.6/dist-packages (from spacy>=2.2.2->de_core_news_sm==2.2.5) (1.0.5)\n",
            "Requirement already satisfied: wasabi<1.1.0,>=0.4.0 in /usr/local/lib/python3.6/dist-packages (from spacy>=2.2.2->de_core_news_sm==2.2.5) (0.8.0)\n",
            "Requirement already satisfied: preshed<3.1.0,>=3.0.2 in /usr/local/lib/python3.6/dist-packages (from spacy>=2.2.2->de_core_news_sm==2.2.5) (3.0.5)\n",
            "Requirement already satisfied: blis<0.5.0,>=0.4.0 in /usr/local/lib/python3.6/dist-packages (from spacy>=2.2.2->de_core_news_sm==2.2.5) (0.4.1)\n",
            "Requirement already satisfied: certifi>=2017.4.17 in /usr/local/lib/python3.6/dist-packages (from requests<3.0.0,>=2.13.0->spacy>=2.2.2->de_core_news_sm==2.2.5) (2020.12.5)\n",
            "Requirement already satisfied: chardet<4,>=3.0.2 in /usr/local/lib/python3.6/dist-packages (from requests<3.0.0,>=2.13.0->spacy>=2.2.2->de_core_news_sm==2.2.5) (3.0.4)\n",
            "Requirement already satisfied: urllib3!=1.25.0,!=1.25.1,<1.26,>=1.21.1 in /usr/local/lib/python3.6/dist-packages (from requests<3.0.0,>=2.13.0->spacy>=2.2.2->de_core_news_sm==2.2.5) (1.24.3)\n",
            "Requirement already satisfied: idna<3,>=2.5 in /usr/local/lib/python3.6/dist-packages (from requests<3.0.0,>=2.13.0->spacy>=2.2.2->de_core_news_sm==2.2.5) (2.10)\n",
            "Requirement already satisfied: importlib-metadata>=0.20; python_version < \"3.8\" in /usr/local/lib/python3.6/dist-packages (from catalogue<1.1.0,>=0.0.7->spacy>=2.2.2->de_core_news_sm==2.2.5) (3.3.0)\n",
            "Requirement already satisfied: typing-extensions>=3.6.4; python_version < \"3.8\" in /usr/local/lib/python3.6/dist-packages (from importlib-metadata>=0.20; python_version < \"3.8\"->catalogue<1.1.0,>=0.0.7->spacy>=2.2.2->de_core_news_sm==2.2.5) (3.7.4.3)\n",
            "Requirement already satisfied: zipp>=0.5 in /usr/local/lib/python3.6/dist-packages (from importlib-metadata>=0.20; python_version < \"3.8\"->catalogue<1.1.0,>=0.0.7->spacy>=2.2.2->de_core_news_sm==2.2.5) (3.4.0)\n",
            "\u001b[38;5;2m✔ Download and installation successful\u001b[0m\n",
            "You can now load the model via spacy.load('de_core_news_sm')\n",
            "\u001b[38;5;2m✔ Linking successful\u001b[0m\n",
            "/usr/local/lib/python3.6/dist-packages/de_core_news_sm -->\n",
            "/usr/local/lib/python3.6/dist-packages/spacy/data/de\n",
            "You can now load the model via spacy.load('de')\n"
          ],
          "name": "stdout"
        }
      ]
    },
    {
      "cell_type": "code",
      "metadata": {
        "id": "1OMA0oJjsM5u"
      },
      "source": [
        "import torch\r\n",
        "import torch.nn as nn\r\n",
        "import torch.optim as optim\r\n",
        "import torch.nn.functional as F\r\n",
        "\r\n",
        "from torchtext.datasets import Multi30k\r\n",
        "from torchtext.data import Field , BucketIterator\r\n",
        "\r\n",
        "import spacy\r\n",
        "import numpy as np\r\n",
        "\r\n",
        "import random\r\n",
        "import math\r\n",
        "import time"
      ],
      "execution_count": 28,
      "outputs": []
    },
    {
      "cell_type": "code",
      "metadata": {
        "id": "9mvaJaaCtP9M"
      },
      "source": [
        "SEED = 1234\r\n",
        "\r\n",
        "random.seed(SEED)\r\n",
        "np.random.seed(SEED)\r\n",
        "torch.manual_seed(SEED)\r\n",
        "torch.cuda.manual_seed(SEED)\r\n",
        "torch.backends.cudnn.deterministic = True"
      ],
      "execution_count": 29,
      "outputs": []
    },
    {
      "cell_type": "code",
      "metadata": {
        "id": "DrvYqsJct1lL"
      },
      "source": [
        "spacy_de = spacy.load('de')\r\n",
        "spacy_en = spacy.load('en')"
      ],
      "execution_count": 30,
      "outputs": []
    },
    {
      "cell_type": "code",
      "metadata": {
        "id": "T7D1dq7Gw0ce"
      },
      "source": [
        "def tokenize_de(text):\r\n",
        "    \"\"\"\r\n",
        "    Tokenizes German text from a string into a list of strings (tokens) and reverses it\r\n",
        "    \"\"\"\r\n",
        "    return [tok.text for tok in spacy_de.tokenizer(text)][::-1]\r\n",
        "\r\n",
        "def tokenize_en(text):\r\n",
        "    \"\"\"\r\n",
        "    Tokenizes English text from a string into a list of strings (tokens)\r\n",
        "    \"\"\"\r\n",
        "    return [tok.text for tok in spacy_en.tokenizer(text)]"
      ],
      "execution_count": 31,
      "outputs": []
    },
    {
      "cell_type": "code",
      "metadata": {
        "id": "rrjmBWAyw11j"
      },
      "source": [
        "TRG = Field(tokenize = tokenize_de, \r\n",
        "            init_token = '<sos>', \r\n",
        "            eos_token = '<eos>', \r\n",
        "            lower = True)\r\n",
        "\r\n",
        "SRC = Field(tokenize = tokenize_en, \r\n",
        "            init_token = '<sos>', \r\n",
        "            eos_token = '<eos>', \r\n",
        "            lower = True)"
      ],
      "execution_count": 32,
      "outputs": []
    },
    {
      "cell_type": "code",
      "metadata": {
        "id": "mqSUeIZ8w346"
      },
      "source": [
        "train_data, valid_data, test_data = Multi30k.splits(exts = ('.en','.de'), \r\n",
        "                                                    fields = (SRC, TRG))"
      ],
      "execution_count": 33,
      "outputs": []
    },
    {
      "cell_type": "code",
      "metadata": {
        "colab": {
          "base_uri": "https://localhost:8080/"
        },
        "id": "MuVOYZJ7w5cI",
        "outputId": "03e05383-3562-4d79-8bdb-bf98a7f13ef3"
      },
      "source": [
        "print(f\"Number of training examples: {len(train_data.examples)}\")\r\n",
        "print(f\"Number of validation examples: {len(valid_data.examples)}\")\r\n",
        "print(f\"Number of testing examples: {len(test_data.examples)}\")"
      ],
      "execution_count": 34,
      "outputs": [
        {
          "output_type": "stream",
          "text": [
            "Number of training examples: 29000\n",
            "Number of validation examples: 1014\n",
            "Number of testing examples: 1000\n"
          ],
          "name": "stdout"
        }
      ]
    },
    {
      "cell_type": "code",
      "metadata": {
        "colab": {
          "base_uri": "https://localhost:8080/"
        },
        "id": "17LbHwPhw63A",
        "outputId": "7673330b-188a-4e8a-ec24-8d0a6305af2a"
      },
      "source": [
        "print(vars(train_data.examples[0]))"
      ],
      "execution_count": 35,
      "outputs": [
        {
          "output_type": "stream",
          "text": [
            "{'src': ['two', 'young', ',', 'white', 'males', 'are', 'outside', 'near', 'many', 'bushes', '.'], 'trg': ['.', 'büsche', 'vieler', 'nähe', 'der', 'in', 'freien', 'im', 'sind', 'männer', 'weiße', 'junge', 'zwei']}\n"
          ],
          "name": "stdout"
        }
      ]
    },
    {
      "cell_type": "code",
      "metadata": {
        "id": "Jb5w0XO6w9Tp"
      },
      "source": [
        "SRC.build_vocab(train_data, min_freq = 2)\r\n",
        "TRG.build_vocab(train_data, min_freq = 2)"
      ],
      "execution_count": 36,
      "outputs": []
    },
    {
      "cell_type": "code",
      "metadata": {
        "colab": {
          "base_uri": "https://localhost:8080/"
        },
        "id": "R7xV1ebFxN0u",
        "outputId": "430ee5b4-3fbc-44a2-b978-395ec370ce0d"
      },
      "source": [
        "print(f\"Unique tokens in source (de) vocabulary: {len(SRC.vocab)}\")\r\n",
        "print(f\"Unique tokens in target (en) vocabulary: {len(TRG.vocab)}\")"
      ],
      "execution_count": 37,
      "outputs": [
        {
          "output_type": "stream",
          "text": [
            "Unique tokens in source (de) vocabulary: 5893\n",
            "Unique tokens in target (en) vocabulary: 7855\n"
          ],
          "name": "stdout"
        }
      ]
    },
    {
      "cell_type": "code",
      "metadata": {
        "id": "kO-c6MXixQNR"
      },
      "source": [
        "device = torch.device('cuda' if torch.cuda.is_available() else 'cpu')"
      ],
      "execution_count": 38,
      "outputs": []
    },
    {
      "cell_type": "code",
      "metadata": {
        "id": "ndIHRtqHxSay"
      },
      "source": [
        "BATCH_SIZE = 128\r\n",
        "\r\n",
        "train_iterator, valid_iterator, test_iterator = BucketIterator.splits(\r\n",
        "    (train_data, valid_data, test_data), \r\n",
        "    batch_size = BATCH_SIZE, \r\n",
        "    device = device)"
      ],
      "execution_count": 39,
      "outputs": []
    },
    {
      "cell_type": "code",
      "metadata": {
        "id": "kuRVpgUCxUuP"
      },
      "source": [
        "class Encoder(nn.Module):\r\n",
        "  def __init__(self , input_dim,emb_dim , enc_hid_dim ,dec_hid_dim, dropout):\r\n",
        "    super().__init__()\r\n",
        "    self.enc_hid_dim = enc_hid_dim\r\n",
        "    self.dec_hid_dim = dec_hid_dim\r\n",
        "    self.emb_dim = emb_dim\r\n",
        "    self.embedding = nn.Embedding(input_dim,emb_dim)\r\n",
        "    self.rnn = nn.GRU(emb_dim ,enc_hid_dim , bidirectional = True)\r\n",
        "    self.fc = nn.Linear(enc_hid_dim*2 , dec_hid_dim)\r\n",
        "    self.dropout = nn.Dropout(dropout)\r\n",
        "\r\n",
        "  def forward(self, src):\r\n",
        "\r\n",
        "    embedding = self.dropout(self.embedding(src))\r\n",
        "    # Input Dimension : SRC --> [sequence_length , batch_size]\r\n",
        "    # Output Dimension : embedding --> [sequence_length , batch_size , embedding dimension]\r\n",
        "\r\n",
        "    outputs , hidden = self.rnn(embedding)\r\n",
        "    # Outputs Dimension : outputs --> [sequence_length , batch_size , enc_hid_dim * n directions ]\r\n",
        "    # Hidden Dimension :  hidden --> [  n layers * n directions ,batch_size , enc_hid_dim ]\r\n",
        "\r\n",
        "    hidden  = torch.tanh(self.fc(torch.cat((hidden[-2 ,:,:] , hidden[-1 ,:,:]), dim = 1)))\r\n",
        "    # hidden[-2 :, : ] --> [batch_size , enc_hid_dim ]\r\n",
        "    # hidden[-1 :, : ] --> [batch_size , enc_hid_dim ]\r\n",
        "    # Input to Fully connected layer --> torch.cat((hidden[-2 :, : ] , hidden[-1 :, : ]), dim = 1) --> [batch_size , enc_hid_dim * 2]\r\n",
        "    # hidden  --> [batch_size , dec_hid_dim ]\r\n",
        "\r\n",
        "    return (outputs , hidden)\r\n"
      ],
      "execution_count": 40,
      "outputs": []
    },
    {
      "cell_type": "code",
      "metadata": {
        "id": "XGRHnYEIN2Ci"
      },
      "source": [
        "class Attention(nn.Module):\r\n",
        "\r\n",
        "  def __init__(self,enc_hid_dim,dec_hid_dim):\r\n",
        "    super().__init__()\r\n",
        "    self.attn = nn.Linear(enc_hid_dim * 2 + dec_hid_dim , dec_hid_dim)\r\n",
        "    self.v = nn.Linear(dec_hid_dim , 1 , bias = False)\r\n",
        "\r\n",
        "  def forward(self, hidden , encoder_outputs): # hidden is Decoder's hidden \r\n",
        "    src_len = encoder_outputs.shape[0]\r\n",
        "\r\n",
        "    hidden = hidden.unsqueeze(1).repeat(1,src_len,1) # hidden is Decoder's hidden basically S_t-1\r\n",
        "    # Input --> [batch_size , dec_hid_dim]\r\n",
        "    # After unsqueeze --> [batch_size , 1 ,  dec_hid_dim]\r\n",
        "    # After repeat --> [batch_size , sequence_length ,  dec_hid_dim]\r\n",
        "    \r\n",
        "    encoder_outputs = encoder_outputs.permute(1,0,2)\r\n",
        "    # encoder_outputs --> [sequence_length , batch_size , enc_hid_dim * n directions ]\r\n",
        "    # encoder_outputs --> (after permute) : [batch_size , sequence_length , enc_hid_dim * n directions ]\r\n",
        "\r\n",
        "    energy = torch.tanh(self.attn(torch.cat((hidden , encoder_outputs ) , dim = 2))) # Basically the similarity of decoder hidden vector(repeated) with encoder hidden vectors\r\n",
        "    # energy --> [batch_size , sequence_length ,  dec_hid_dim]\r\n",
        "\r\n",
        "    attention = self.v(energy).squeeze(2)\r\n",
        "    # attention --> [batch_size , sequence_length ,  1]\r\n",
        "    # attention --> (after squeeze)  [batch_size , sequence_length ] \r\n",
        "    # we want our attention vector to be as long as our input sequence\r\n",
        "\r\n",
        "    return(F.softmax(attention , dim = 1)) \r\n",
        "\r\n"
      ],
      "execution_count": 41,
      "outputs": []
    },
    {
      "cell_type": "code",
      "metadata": {
        "id": "kWpt9vToj5dH"
      },
      "source": [
        "class Decoder(nn.Module):\r\n",
        "  def __init__(self , output_dim,emb_dim , enc_hid_dim ,dec_hid_dim , dropout , attention):\r\n",
        "    super().__init__()\r\n",
        "    self.output_dim = output_dim\r\n",
        "    self.attention = attention\r\n",
        "    self.embedding = nn.Embedding(output_dim,emb_dim)\r\n",
        "    self.rnn = nn.GRU((enc_hid_dim * 2) + emb_dim , dec_hid_dim)\r\n",
        "    self.fc_out = nn.Linear((enc_hid_dim * 2) + emb_dim  + dec_hid_dim , output_dim)\r\n",
        "    self.dropout = nn.Dropout(dropout)\r\n",
        "\r\n",
        "  def forward(self , input , hidden , encoder_outputs):\r\n",
        "    #input --> [batch size]\r\n",
        "    input = input.unsqueeze(0)\r\n",
        "    #input --> [1 , batch size]\r\n",
        "\r\n",
        "    embedded = self.dropout(self.embedding(input))\r\n",
        "    # embedding --> [1 , batch size , emb_dim ]\r\n",
        "\r\n",
        "    a = self.attention(hidden , encoder_outputs) # hidden is Decoder's hidden \r\n",
        "    # a -->  [batch_size , sequence_length ] \r\n",
        "\r\n",
        "    a = a.unsqueeze(1)\r\n",
        "    # a -->  [ batch_size , 1 , sequence_length ]\r\n",
        "\r\n",
        "    # encoder_outputs --> [sequence_length , batch_size , enc_hid_dim * 2 ] # ndirections = 2\r\n",
        "    encoder_outputs = encoder_outputs.permute(1,0,2)\r\n",
        "    # encoder_outputs --> (after permute) : [batch_size , sequence_length , enc_hid_dim * 2 ]\r\n",
        "\r\n",
        "    weighted = torch.bmm(a , encoder_outputs)\r\n",
        "    # weighted --> [ batch_size , 1 , enc_hid_dim * 2]\r\n",
        "\r\n",
        "    weighted = weighted.permute(1,0,2)\r\n",
        "    # weighted --> [ 1 , batch_size , enc_hid_dim * 2]\r\n",
        "\r\n",
        "    rnn_input = torch.cat((embedded , weighted), dim = 2)\r\n",
        "    # rnn_input --> [ 1 , batch_size , enc_hid_dim * 2 + emb_dim ]\r\n",
        "\r\n",
        "    output , hidden = self.rnn(rnn_input , hidden.unsqueeze(0)) # hidden  --> [batch_size , dec_hid_dim ]\r\n",
        "\r\n",
        "    embedded = embedded.squeeze(0)\r\n",
        "    output = output.squeeze(0)\r\n",
        "    weighted = weighted.squeeze(0)\r\n",
        "\r\n",
        "    prediction = self.fc_out(torch.cat((output , weighted , embedded), dim = 1))\r\n",
        "\r\n",
        "    return prediction , hidden.squeeze(0)\r\n",
        "\r\n"
      ],
      "execution_count": 42,
      "outputs": []
    },
    {
      "cell_type": "code",
      "metadata": {
        "id": "EXS_ZtFDWYx-"
      },
      "source": [
        "class Seq2Seq(nn.Module):\r\n",
        "    def __init__(self, encoder, decoder, device):\r\n",
        "        super().__init__()\r\n",
        "        \r\n",
        "        self.encoder = encoder\r\n",
        "        self.decoder = decoder\r\n",
        "        self.device = device\r\n",
        "        \r\n",
        "    def forward(self, src, trg, teacher_forcing_ratio = 0.5):\r\n",
        "        \r\n",
        "        #src = [src len, batch size]\r\n",
        "        #trg = [trg len, batch size]\r\n",
        "        #teacher_forcing_ratio is probability to use teacher forcing\r\n",
        "        #e.g. if teacher_forcing_ratio is 0.75 we use teacher forcing 75% of the time\r\n",
        "        \r\n",
        "        batch_size = src.shape[1]\r\n",
        "        trg_len = trg.shape[0]\r\n",
        "        trg_vocab_size = self.decoder.output_dim\r\n",
        "        \r\n",
        "        #tensor to store decoder outputs\r\n",
        "        outputs = torch.zeros(trg_len, batch_size, trg_vocab_size).to(self.device)\r\n",
        "        \r\n",
        "        #encoder_outputs is all hidden states of the input sequence, back and forwards\r\n",
        "        #hidden is the final forward and backward hidden states, passed through a linear layer\r\n",
        "        encoder_outputs, hidden = self.encoder(src)\r\n",
        "                \r\n",
        "        #first input to the decoder is the <sos> tokens\r\n",
        "        input = trg[0,:]\r\n",
        "        \r\n",
        "        for t in range(1, trg_len):\r\n",
        "            \r\n",
        "            #insert input token embedding, previous hidden state and all encoder hidden states\r\n",
        "            #receive output tensor (predictions) and new hidden state\r\n",
        "            output, hidden = self.decoder(input, hidden, encoder_outputs)\r\n",
        "            \r\n",
        "            #place predictions in a tensor holding predictions for each token\r\n",
        "            outputs[t] = output\r\n",
        "            \r\n",
        "            #decide if we are going to use teacher forcing or not\r\n",
        "            teacher_force = random.random() < teacher_forcing_ratio\r\n",
        "            \r\n",
        "            #get the highest predicted token from our predictions\r\n",
        "            top1 = output.argmax(1) \r\n",
        "            \r\n",
        "            #if teacher forcing, use actual next token as next input\r\n",
        "            #if not, use predicted token\r\n",
        "            input = trg[t] if teacher_force else top1\r\n",
        "\r\n",
        "        return outputs"
      ],
      "execution_count": 43,
      "outputs": []
    },
    {
      "cell_type": "code",
      "metadata": {
        "id": "mNIAQbWeWmhQ"
      },
      "source": [
        "INPUT_DIM = len(SRC.vocab)\r\n",
        "OUTPUT_DIM = len(TRG.vocab)\r\n",
        "ENC_EMB_DIM = 256\r\n",
        "DEC_EMB_DIM = 256\r\n",
        "ENC_HID_DIM = 512\r\n",
        "DEC_HID_DIM = 512\r\n",
        "ENC_DROPOUT = 0.5\r\n",
        "DEC_DROPOUT = 0.5\r\n",
        "\r\n",
        "attn = Attention(ENC_HID_DIM , DEC_HID_DIM) \r\n",
        "enc = Encoder(INPUT_DIM, ENC_EMB_DIM, ENC_HID_DIM, DEC_HID_DIM , ENC_DROPOUT)\r\n",
        "dec = Decoder(OUTPUT_DIM, DEC_EMB_DIM, ENC_HID_DIM, DEC_HID_DIM, DEC_DROPOUT,attn)\r\n",
        "\r\n",
        "model = Seq2Seq(enc, dec, device).to(device)"
      ],
      "execution_count": 44,
      "outputs": []
    },
    {
      "cell_type": "code",
      "metadata": {
        "colab": {
          "base_uri": "https://localhost:8080/"
        },
        "id": "H1HUXZo9Ya59",
        "outputId": "26600d2c-17da-448e-e0d9-b7446aeb03ef"
      },
      "source": [
        "def init_weights(m):\r\n",
        "    for name, param in m.named_parameters():\r\n",
        "        nn.init.uniform_(param.data, -0.08, 0.08)\r\n",
        "        \r\n",
        "model.apply(init_weights)"
      ],
      "execution_count": 45,
      "outputs": [
        {
          "output_type": "execute_result",
          "data": {
            "text/plain": [
              "Seq2Seq(\n",
              "  (encoder): Encoder(\n",
              "    (embedding): Embedding(5893, 256)\n",
              "    (rnn): GRU(256, 512, bidirectional=True)\n",
              "    (fc): Linear(in_features=1024, out_features=512, bias=True)\n",
              "    (dropout): Dropout(p=0.5, inplace=False)\n",
              "  )\n",
              "  (decoder): Decoder(\n",
              "    (attention): Attention(\n",
              "      (attn): Linear(in_features=1536, out_features=512, bias=True)\n",
              "      (v): Linear(in_features=512, out_features=1, bias=False)\n",
              "    )\n",
              "    (embedding): Embedding(7855, 256)\n",
              "    (rnn): GRU(1280, 512)\n",
              "    (fc_out): Linear(in_features=1792, out_features=7855, bias=True)\n",
              "    (dropout): Dropout(p=0.5, inplace=False)\n",
              "  )\n",
              ")"
            ]
          },
          "metadata": {
            "tags": []
          },
          "execution_count": 45
        }
      ]
    },
    {
      "cell_type": "code",
      "metadata": {
        "colab": {
          "base_uri": "https://localhost:8080/"
        },
        "id": "kSPDVmBXYhWH",
        "outputId": "5c77f1fc-b98c-4de3-bd9e-68370cd43705"
      },
      "source": [
        "def count_parameters(model):\r\n",
        "    return sum(p.numel() for p in model.parameters() if p.requires_grad)\r\n",
        "\r\n",
        "print(f'The model has {count_parameters(model):,} trainable parameters')"
      ],
      "execution_count": 46,
      "outputs": [
        {
          "output_type": "stream",
          "text": [
            "The model has 24,036,783 trainable parameters\n"
          ],
          "name": "stdout"
        }
      ]
    },
    {
      "cell_type": "code",
      "metadata": {
        "id": "1y0LcqdzYkyz"
      },
      "source": [
        "optimizer = optim.Adam(model.parameters())"
      ],
      "execution_count": 47,
      "outputs": []
    },
    {
      "cell_type": "code",
      "metadata": {
        "id": "BP8c2q8qYk1e"
      },
      "source": [
        "TRG_PAD_IDX = TRG.vocab.stoi[TRG.pad_token]\r\n",
        "\r\n",
        "criterion = nn.CrossEntropyLoss(ignore_index = TRG_PAD_IDX)"
      ],
      "execution_count": 48,
      "outputs": []
    },
    {
      "cell_type": "code",
      "metadata": {
        "id": "BCCOZXSEYk4f"
      },
      "source": [
        "def train(model, iterator, optimizer, criterion, clip):\r\n",
        "    \r\n",
        "    model.train()\r\n",
        "    \r\n",
        "    epoch_loss = 0\r\n",
        "    \r\n",
        "    for i, batch in enumerate(iterator):\r\n",
        "        \r\n",
        "        src = batch.src\r\n",
        "        trg = batch.trg\r\n",
        "        \r\n",
        "        optimizer.zero_grad()\r\n",
        "        \r\n",
        "        output = model(src, trg)\r\n",
        "        \r\n",
        "        #trg = [trg len, batch size]\r\n",
        "        #output = [trg len, batch size, output dim]\r\n",
        "        \r\n",
        "        output_dim = output.shape[-1]\r\n",
        "        \r\n",
        "        output = output[1:].view(-1, output_dim)\r\n",
        "        trg = trg[1:].view(-1)\r\n",
        "        \r\n",
        "        #trg = [(trg len - 1) * batch size]\r\n",
        "        #output = [(trg len - 1) * batch size, output dim]\r\n",
        "        \r\n",
        "        loss = criterion(output, trg)\r\n",
        "        \r\n",
        "        loss.backward()\r\n",
        "        \r\n",
        "        torch.nn.utils.clip_grad_norm_(model.parameters(), clip)\r\n",
        "        \r\n",
        "        optimizer.step()\r\n",
        "        \r\n",
        "        epoch_loss += loss.item()\r\n",
        "        \r\n",
        "    return epoch_loss / len(iterator)"
      ],
      "execution_count": 49,
      "outputs": []
    },
    {
      "cell_type": "code",
      "metadata": {
        "id": "-yyJQ9UIYk7s"
      },
      "source": [
        "def evaluate(model, iterator, criterion):\r\n",
        "    \r\n",
        "    model.eval()\r\n",
        "    \r\n",
        "    epoch_loss = 0\r\n",
        "    \r\n",
        "    with torch.no_grad():\r\n",
        "    \r\n",
        "        for i, batch in enumerate(iterator):\r\n",
        "\r\n",
        "            src = batch.src\r\n",
        "            trg = batch.trg\r\n",
        "\r\n",
        "            output = model(src, trg, 0) #turn off teacher forcing\r\n",
        "\r\n",
        "            #trg = [trg len, batch size]\r\n",
        "            #output = [trg len, batch size, output dim]\r\n",
        "\r\n",
        "            output_dim = output.shape[-1]\r\n",
        "            \r\n",
        "            output = output[1:].view(-1, output_dim)\r\n",
        "            trg = trg[1:].view(-1)\r\n",
        "\r\n",
        "            #trg = [(trg len - 1) * batch size]\r\n",
        "            #output = [(trg len - 1) * batch size, output dim]\r\n",
        "\r\n",
        "            loss = criterion(output, trg)\r\n",
        "            \r\n",
        "            epoch_loss += loss.item()\r\n",
        "        \r\n",
        "    return epoch_loss / len(iterator)"
      ],
      "execution_count": 50,
      "outputs": []
    },
    {
      "cell_type": "code",
      "metadata": {
        "id": "SiV3bC44Yk-1"
      },
      "source": [
        "def epoch_time(start_time, end_time):\r\n",
        "    elapsed_time = end_time - start_time\r\n",
        "    elapsed_mins = int(elapsed_time / 60)\r\n",
        "    elapsed_secs = int(elapsed_time - (elapsed_mins * 60))\r\n",
        "    return elapsed_mins, elapsed_secs"
      ],
      "execution_count": 51,
      "outputs": []
    },
    {
      "cell_type": "code",
      "metadata": {
        "colab": {
          "base_uri": "https://localhost:8080/"
        },
        "id": "BObkrGGzYz2U",
        "outputId": "f036216f-5e7c-44dd-fece-315276582e01"
      },
      "source": [
        "N_EPOCHS = 20\r\n",
        "CLIP = 1\r\n",
        "\r\n",
        "best_valid_loss = float('inf')\r\n",
        "\r\n",
        "for epoch in range(N_EPOCHS):\r\n",
        "    \r\n",
        "    start_time = time.time()\r\n",
        "    \r\n",
        "    train_loss = train(model, train_iterator, optimizer, criterion, CLIP)\r\n",
        "    valid_loss = evaluate(model, valid_iterator, criterion)\r\n",
        "    \r\n",
        "    end_time = time.time()\r\n",
        "    \r\n",
        "    epoch_mins, epoch_secs = epoch_time(start_time, end_time)\r\n",
        "    \r\n",
        "    if valid_loss < best_valid_loss:\r\n",
        "        best_valid_loss = valid_loss\r\n",
        "        torch.save(model.state_dict(), 'tut1-model.pt')\r\n",
        "    \r\n",
        "    print(f'Epoch: {epoch+1:02} | Time: {epoch_mins}m {epoch_secs}s')\r\n",
        "    print(f'\\tTrain Loss: {train_loss:.3f} | Train PPL: {math.exp(train_loss):7.3f}')\r\n",
        "    print(f'\\t Val. Loss: {valid_loss:.3f} |  Val. PPL: {math.exp(valid_loss):7.3f}')"
      ],
      "execution_count": 53,
      "outputs": [
        {
          "output_type": "stream",
          "text": [
            "Epoch: 01 | Time: 1m 37s\n",
            "\tTrain Loss: 3.169 | Train PPL:  23.779\n",
            "\t Val. Loss: 3.599 |  Val. PPL:  36.559\n",
            "Epoch: 02 | Time: 1m 37s\n",
            "\tTrain Loss: 2.625 | Train PPL:  13.802\n",
            "\t Val. Loss: 3.383 |  Val. PPL:  29.447\n",
            "Epoch: 03 | Time: 1m 37s\n",
            "\tTrain Loss: 2.246 | Train PPL:   9.448\n",
            "\t Val. Loss: 3.342 |  Val. PPL:  28.263\n",
            "Epoch: 04 | Time: 1m 38s\n",
            "\tTrain Loss: 1.944 | Train PPL:   6.986\n",
            "\t Val. Loss: 3.350 |  Val. PPL:  28.514\n",
            "Epoch: 05 | Time: 1m 37s\n",
            "\tTrain Loss: 1.712 | Train PPL:   5.540\n",
            "\t Val. Loss: 3.409 |  Val. PPL:  30.231\n",
            "Epoch: 06 | Time: 1m 38s\n",
            "\tTrain Loss: 1.550 | Train PPL:   4.711\n",
            "\t Val. Loss: 3.390 |  Val. PPL:  29.664\n",
            "Epoch: 07 | Time: 1m 38s\n",
            "\tTrain Loss: 1.386 | Train PPL:   4.000\n",
            "\t Val. Loss: 3.473 |  Val. PPL:  32.239\n",
            "Epoch: 08 | Time: 1m 38s\n",
            "\tTrain Loss: 1.246 | Train PPL:   3.478\n",
            "\t Val. Loss: 3.504 |  Val. PPL:  33.232\n",
            "Epoch: 09 | Time: 1m 36s\n",
            "\tTrain Loss: 1.164 | Train PPL:   3.202\n",
            "\t Val. Loss: 3.541 |  Val. PPL:  34.494\n",
            "Epoch: 10 | Time: 1m 38s\n",
            "\tTrain Loss: 1.076 | Train PPL:   2.932\n",
            "\t Val. Loss: 3.603 |  Val. PPL:  36.701\n",
            "Epoch: 11 | Time: 1m 37s\n",
            "\tTrain Loss: 0.976 | Train PPL:   2.655\n",
            "\t Val. Loss: 3.681 |  Val. PPL:  39.680\n",
            "Epoch: 12 | Time: 1m 37s\n",
            "\tTrain Loss: 0.906 | Train PPL:   2.475\n",
            "\t Val. Loss: 3.677 |  Val. PPL:  39.530\n",
            "Epoch: 13 | Time: 1m 37s\n",
            "\tTrain Loss: 0.827 | Train PPL:   2.287\n",
            "\t Val. Loss: 3.783 |  Val. PPL:  43.956\n",
            "Epoch: 14 | Time: 1m 37s\n",
            "\tTrain Loss: 0.782 | Train PPL:   2.186\n",
            "\t Val. Loss: 3.859 |  Val. PPL:  47.408\n",
            "Epoch: 15 | Time: 1m 37s\n",
            "\tTrain Loss: 0.724 | Train PPL:   2.062\n",
            "\t Val. Loss: 3.906 |  Val. PPL:  49.705\n",
            "Epoch: 16 | Time: 1m 37s\n",
            "\tTrain Loss: 0.663 | Train PPL:   1.941\n",
            "\t Val. Loss: 4.002 |  Val. PPL:  54.687\n",
            "Epoch: 17 | Time: 1m 37s\n",
            "\tTrain Loss: 0.628 | Train PPL:   1.874\n",
            "\t Val. Loss: 4.014 |  Val. PPL:  55.367\n",
            "Epoch: 18 | Time: 1m 37s\n",
            "\tTrain Loss: 0.575 | Train PPL:   1.778\n",
            "\t Val. Loss: 4.203 |  Val. PPL:  66.917\n",
            "Epoch: 19 | Time: 1m 37s\n",
            "\tTrain Loss: 0.525 | Train PPL:   1.691\n",
            "\t Val. Loss: 4.318 |  Val. PPL:  75.026\n",
            "Epoch: 20 | Time: 1m 37s\n",
            "\tTrain Loss: 0.497 | Train PPL:   1.643\n",
            "\t Val. Loss: 4.411 |  Val. PPL:  82.382\n"
          ],
          "name": "stdout"
        }
      ]
    },
    {
      "cell_type": "code",
      "metadata": {
        "id": "HbDk3mNDudRh"
      },
      "source": [
        ""
      ],
      "execution_count": null,
      "outputs": []
    }
  ]
}